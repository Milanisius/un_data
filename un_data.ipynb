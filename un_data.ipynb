{
 "metadata": {
  "language_info": {
   "codemirror_mode": {
    "name": "ipython",
    "version": 3
   },
   "file_extension": ".py",
   "mimetype": "text/x-python",
   "name": "python",
   "nbconvert_exporter": "python",
   "pygments_lexer": "ipython3",
   "version": "3.7.5"
  },
  "orig_nbformat": 2,
  "kernelspec": {
   "name": "python375jvsc74a57bd01b6f39a7f3d28582a72732939a3000cc6d7fc440266ec5460b3d4efd327b2c08",
   "display_name": "Python 3.7.5 64-bit"
  },
  "metadata": {
   "interpreter": {
    "hash": "1b6f39a7f3d28582a72732939a3000cc6d7fc440266ec5460b3d4efd327b2c08"
   }
  }
 },
 "nbformat": 4,
 "nbformat_minor": 2,
 "cells": [
  {
   "cell_type": "code",
   "execution_count": 2,
   "metadata": {},
   "outputs": [],
   "source": [
    "from datetime import date, timedelta\n",
    "import os\n",
    "from ipywidgets import interact, interactive, fixed, interact_manual\n",
    "import ipywidgets as widgets\n",
    "\n",
    "import numpy as np\n",
    "import matplotlib.pyplot as plt\n",
    "import pandas as pd\n",
    "import plotly.express as px\n",
    "import plotly.io"
   ]
  },
  {
   "cell_type": "code",
   "execution_count": 10,
   "metadata": {},
   "outputs": [],
   "source": [
    "def load_un_data():\n",
    "\n",
    "    \n",
    "    path = \"data/SYB61_253_Population Growth Rates in Urban areas and Capital cities.csv\"\n",
    "    \n",
    "    df = pd.read_csv(path, usecols=[0,1,2,3,6],skiprows=2, names=[\"Regionindex\", \"Region\", \"Year\", \"Series\", \"Value\"])\n",
    "    return df\n",
    "df = load_un_data()"
   ]
  },
  {
   "cell_type": "code",
   "execution_count": 12,
   "metadata": {},
   "outputs": [
    {
     "output_type": "execute_result",
     "data": {
      "text/plain": [
       "array(['Urban population (percent)',\n",
       "       'Urban population (percent growth rate per annum)',\n",
       "       'Rural population (percent growth rate per annum)',\n",
       "       'Capital city population (thousands)',\n",
       "       'Capital city population (as a percentage of total population)',\n",
       "       'Capital city population (as a percentage of total urban population)'],\n",
       "      dtype=object)"
      ]
     },
     "metadata": {},
     "execution_count": 12
    }
   ],
   "source": [
    "series = df.Series.unique()\n",
    "country = \"Germany\"\n",
    "for ser in series:\n",
    "    subset = df[(df.Region == country)&(df.Series == ser)]\n",
    "    plt.plot(subset.Year,subset.Value,label=ser)"
   ]
  }
 ]
}